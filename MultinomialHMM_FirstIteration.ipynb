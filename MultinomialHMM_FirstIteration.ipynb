{
  "nbformat": 4,
  "nbformat_minor": 0,
  "metadata": {
    "colab": {
      "name": "MultinomialHMM.ipynb",
      "provenance": [],
      "collapsed_sections": [],
      "include_colab_link": true
    },
    "kernelspec": {
      "name": "python3",
      "display_name": "Python 3"
    }
  },
  "cells": [
    {
      "cell_type": "markdown",
      "metadata": {
        "id": "view-in-github",
        "colab_type": "text"
      },
      "source": [
        "<a href=\"https://colab.research.google.com/github/mikecabs/VolvoHMM/blob/main/MultinomialHMM_FirstIteration.ipynb\" target=\"_parent\"><img src=\"https://colab.research.google.com/assets/colab-badge.svg\" alt=\"Open In Colab\"/></a>"
      ]
    },
    {
      "cell_type": "markdown",
      "metadata": {
        "id": "mwjSt4BZ45x_"
      },
      "source": [
        "HMM Learn"
      ]
    },
    {
      "cell_type": "code",
      "metadata": {
        "id": "MZWMOeCg5aYq",
        "outputId": "0bd5451d-f9ad-432b-e9dc-33f08f6b7cd2",
        "colab": {
          "base_uri": "https://localhost:8080/"
        }
      },
      "source": [
        "# Need to install everytime\n",
        "!pip install hmmlearn"
      ],
      "execution_count": 4,
      "outputs": [
        {
          "output_type": "stream",
          "text": [
            "4/1AfDhmrge3x1fa4cmv7NBKAWpotXJqWpRhogfUj-IDQogaKNCu4wFRL_l__kRequirement already satisfied: hmmlearn in /usr/local/lib/python3.6/dist-packages (0.2.4)\n",
            "Requirement already satisfied: scipy>=0.19 in /usr/local/lib/python3.6/dist-packages (from hmmlearn) (1.4.1)\n",
            "Requirement already satisfied: numpy>=1.10 in /usr/local/lib/python3.6/dist-packages (from hmmlearn) (1.18.5)\n",
            "Requirement already satisfied: scikit-learn>=0.16 in /usr/local/lib/python3.6/dist-packages (from hmmlearn) (0.22.2.post1)\n",
            "Requirement already satisfied: joblib>=0.11 in /usr/local/lib/python3.6/dist-packages (from scikit-learn>=0.16->hmmlearn) (0.17.0)\n"
          ],
          "name": "stdout"
        }
      ]
    },
    {
      "cell_type": "code",
      "metadata": {
        "id": "6NllxYKqUE02"
      },
      "source": [
        "# import packages\n",
        "import numpy as np\n",
        "import pandas as pd\n",
        "import matplotlib.pyplot as plt\n",
        "import seaborn as sns\n",
        "import hmmlearn\n",
        "sns.set()\n",
        "# enhance inline image quality\n",
        "%config InlineBackend.figure_format = 'retina'"
      ],
      "execution_count": 5,
      "outputs": []
    },
    {
      "cell_type": "code",
      "metadata": {
        "id": "WruNsjrha88o",
        "outputId": "ad6818c9-914b-46e0-d5e5-4d735692c95a",
        "colab": {
          "base_uri": "https://localhost:8080/"
        }
      },
      "source": [
        "from google.colab import drive\n",
        "drive.mount('/content/drive')"
      ],
      "execution_count": 6,
      "outputs": [
        {
          "output_type": "stream",
          "text": [
            "Mounted at /content/drive\n"
          ],
          "name": "stdout"
        }
      ]
    },
    {
      "cell_type": "code",
      "metadata": {
        "id": "-ona85j0b4Kw",
        "outputId": "d3c5645f-6bb4-4e14-b1d4-0b2a5cebb482",
        "colab": {
          "base_uri": "https://localhost:8080/"
        }
      },
      "source": [
        "# Note: I rename the folder to HMM since it's Hidden Markov Model, check folder name if this line doesn't work\n",
        "%cd \"/content/drive/My Drive/Volvo HMM Project/\""
      ],
      "execution_count": 7,
      "outputs": [
        {
          "output_type": "stream",
          "text": [
            "/content/drive/.shortcut-targets-by-id/1T01a1rxUdrfdS4tfGgwWks4bUw3sfNf0/Volvo HMM Project\n"
          ],
          "name": "stdout"
        }
      ]
    },
    {
      "cell_type": "markdown",
      "metadata": {
        "id": "vGbA8JVj5lWU"
      },
      "source": [
        "Load Data"
      ]
    },
    {
      "cell_type": "code",
      "metadata": {
        "id": "glvkMByc5ntx"
      },
      "source": [
        "c_pageseq = pd.read_csv('./Datasets/q4_cPageSeq.csv')\n",
        "nc_pageseq = pd.read_csv('./Datasets/q4_ncPageSeq.csv')"
      ],
      "execution_count": 8,
      "outputs": []
    },
    {
      "cell_type": "code",
      "metadata": {
        "id": "_4yN-fb8x1Dd"
      },
      "source": [
        "#Adding in if converted so I can combine the datasets\n",
        "#The rows in the converted dataset are there because the user converted within a two week span\n",
        "c_pageseq['Conversion Dataset'] = 1\n",
        "nc_pageseq['Conversion Dataset'] = 0\n",
        "c_pageseq['Page Sequence'] = c_pageseq.seq.apply(lambda x: [int(i) for i in x.split(\",\")])\n",
        "nc_pageseq['Page Sequence'] = nc_pageseq.seq.apply(lambda x: [int(i) for i in x.split(\",\")])"
      ],
      "execution_count": 9,
      "outputs": []
    },
    {
      "cell_type": "code",
      "metadata": {
        "id": "YWatOSLzyNuc"
      },
      "source": [
        "#Combining converted and non-converted visitors\n",
        "nc_pageseq = nc_pageseq.sample(len(c_pageseq))\n",
        "pageseq = pd.concat([c_pageseq, nc_pageseq])"
      ],
      "execution_count": 10,
      "outputs": []
    },
    {
      "cell_type": "code",
      "metadata": {
        "id": "YRSGwmHJzMMx"
      },
      "source": [
        "pageseq['User and Session'] = pageseq.ids.apply(lambda x: [i for i in x.split(',')])\n",
        "pageseq['User ID'] = pageseq['User and Session'].apply(lambda x: x[1])\n",
        "pageseq['Session ID'] = pageseq['User and Session'].apply(lambda x: x[0])\n",
        "pageseq = pageseq.drop(columns = ['ids', 'User and Session', 'seq'])\n",
        "pageseq = pageseq.set_index('Session ID')"
      ],
      "execution_count": 11,
      "outputs": []
    },
    {
      "cell_type": "code",
      "metadata": {
        "id": "oxtmBVxs0vQJ"
      },
      "source": [
        "pageseq['Media Channel'] = pageseq['Page Sequence'].apply(lambda x: x[0])"
      ],
      "execution_count": 12,
      "outputs": []
    },
    {
      "cell_type": "code",
      "metadata": {
        "id": "KyzikDxedsGZ"
      },
      "source": [
        "#Adding if the session converted and by which pages to the table\n",
        "con_ses = []\n",
        "con_ways = []\n",
        "for seq in pageseq['Page Sequence']:\n",
        "  con_ses_bool = 0\n",
        "  converted_pages = []\n",
        "  for page in seq:\n",
        "    if page == 24 or page == 34 or page == 39 or page == 86:\n",
        "      converted_pages.append(page)\n",
        "      con_ses_bool = 1\n",
        "  con_ses.append(con_ses_bool)\n",
        "  con_ways.append(converted_pages)"
      ],
      "execution_count": 13,
      "outputs": []
    },
    {
      "cell_type": "code",
      "metadata": {
        "id": "EMrtA56KlY1g"
      },
      "source": [
        "pageseq['Converted Session'] = con_ses\n",
        "pageseq['Conversion Method'] = con_ways"
      ],
      "execution_count": 14,
      "outputs": []
    },
    {
      "cell_type": "code",
      "metadata": {
        "id": "hSNuUUFa525p",
        "outputId": "9488b856-4a05-4b6a-9a49-07020187690e",
        "colab": {
          "base_uri": "https://localhost:8080/",
          "height": 235
        }
      },
      "source": [
        "pageseq = pageseq[['User ID', 'Page Sequence', 'Conversion Dataset', 'Converted Session', 'Media Channel', 'Conversion Method']]\n",
        "#Note: there are some sequences with a conversion action that are not in the conversion dataset because 86 is not identified as converted\n",
        "display(pageseq.head())"
      ],
      "execution_count": 15,
      "outputs": [
        {
          "output_type": "display_data",
          "data": {
            "text/html": [
              "<div>\n",
              "<style scoped>\n",
              "    .dataframe tbody tr th:only-of-type {\n",
              "        vertical-align: middle;\n",
              "    }\n",
              "\n",
              "    .dataframe tbody tr th {\n",
              "        vertical-align: top;\n",
              "    }\n",
              "\n",
              "    .dataframe thead th {\n",
              "        text-align: right;\n",
              "    }\n",
              "</style>\n",
              "<table border=\"1\" class=\"dataframe\">\n",
              "  <thead>\n",
              "    <tr style=\"text-align: right;\">\n",
              "      <th></th>\n",
              "      <th>User ID</th>\n",
              "      <th>Page Sequence</th>\n",
              "      <th>Conversion Dataset</th>\n",
              "      <th>Converted Session</th>\n",
              "      <th>Media Channel</th>\n",
              "      <th>Conversion Method</th>\n",
              "    </tr>\n",
              "    <tr>\n",
              "      <th>Session ID</th>\n",
              "      <th></th>\n",
              "      <th></th>\n",
              "      <th></th>\n",
              "      <th></th>\n",
              "      <th></th>\n",
              "      <th></th>\n",
              "    </tr>\n",
              "  </thead>\n",
              "  <tbody>\n",
              "    <tr>\n",
              "      <th>1569880989</th>\n",
              "      <td>4591098790048594944</td>\n",
              "      <td>[126, 74, 84, 74, 84, 24]</td>\n",
              "      <td>1</td>\n",
              "      <td>1</td>\n",
              "      <td>126</td>\n",
              "      <td>[24]</td>\n",
              "    </tr>\n",
              "    <tr>\n",
              "      <th>1569881650</th>\n",
              "      <td>8163510663962056704</td>\n",
              "      <td>[125, 95, 84, 24]</td>\n",
              "      <td>1</td>\n",
              "      <td>1</td>\n",
              "      <td>125</td>\n",
              "      <td>[24]</td>\n",
              "    </tr>\n",
              "    <tr>\n",
              "      <th>1569882913</th>\n",
              "      <td>5836022827757765632</td>\n",
              "      <td>[125, 77, 5, 74, 5, 74, 85, 90, 93, 99, 91, 92...</td>\n",
              "      <td>1</td>\n",
              "      <td>1</td>\n",
              "      <td>125</td>\n",
              "      <td>[86, 24]</td>\n",
              "    </tr>\n",
              "    <tr>\n",
              "      <th>1569883055</th>\n",
              "      <td>3586855111765427200</td>\n",
              "      <td>[130, 79, 84, 79, 85, 90, 93, 99, 91, 92, 96, ...</td>\n",
              "      <td>1</td>\n",
              "      <td>1</td>\n",
              "      <td>130</td>\n",
              "      <td>[86, 24]</td>\n",
              "    </tr>\n",
              "    <tr>\n",
              "      <th>1569883489</th>\n",
              "      <td>906571704020631040</td>\n",
              "      <td>[125, 85, 90, 93, 99, 91, 92, 96, 95, 96, 95, ...</td>\n",
              "      <td>1</td>\n",
              "      <td>1</td>\n",
              "      <td>125</td>\n",
              "      <td>[86, 86, 24]</td>\n",
              "    </tr>\n",
              "  </tbody>\n",
              "</table>\n",
              "</div>"
            ],
            "text/plain": [
              "                        User ID  ... Conversion Method\n",
              "Session ID                       ...                  \n",
              "1569880989  4591098790048594944  ...              [24]\n",
              "1569881650  8163510663962056704  ...              [24]\n",
              "1569882913  5836022827757765632  ...          [86, 24]\n",
              "1569883055  3586855111765427200  ...          [86, 24]\n",
              "1569883489   906571704020631040  ...      [86, 86, 24]\n",
              "\n",
              "[5 rows x 6 columns]"
            ]
          },
          "metadata": {
            "tags": []
          }
        }
      ]
    },
    {
      "cell_type": "markdown",
      "metadata": {
        "id": "d1jjc4S4QJ2Z"
      },
      "source": [
        "Creating a Starting Probability and Emmissions Matrix"
      ]
    },
    {
      "cell_type": "code",
      "metadata": {
        "id": "HFcJyZExQfBU"
      },
      "source": [
        "#Creating a dictionary of the number of times a converted user enters a page\n",
        "c_pages = {}\n",
        "just_c = pageseq[pageseq['Converted Session']==1]\n",
        "for seq in just_c['Page Sequence']:\n",
        "  for page in seq:\n",
        "      prev_val = c_pages.get(page)\n",
        "      if prev_val == None:\n",
        "        c_pages[page] = 1\n",
        "      else:\n",
        "        c_pages[page] = prev_val + 1\n",
        "#Creating a dictionary of the number of times a nonconverted user enters a page\n",
        "nc_pages = {}\n",
        "just_nc = pageseq[pageseq['Converted Session']==0]\n",
        "for seq in just_nc['Page Sequence']:\n",
        "  for page in seq:\n",
        "      prev_val = nc_pages.get(page)\n",
        "      if prev_val == None:\n",
        "        nc_pages[page] = 1\n",
        "      else:\n",
        "        nc_pages[page] = prev_val + 1"
      ],
      "execution_count": 16,
      "outputs": []
    },
    {
      "cell_type": "code",
      "metadata": {
        "id": "0huX1BO1u2aq"
      },
      "source": [
        "#Creating a dictionary of the probability a converted user started on a specific page\n",
        "startingpage = {}\n",
        "for i, page in enumerate(pageseq['Media Channel']):\n",
        "  is_converted = pageseq['Converted Session'][i]\n",
        "  prev_val = startingpage.get(page)\n",
        "  if prev_val == None:\n",
        "    if is_converted:\n",
        "      startingpage[page] = (1,1)\n",
        "    else:\n",
        "      startingpage[page] = (0,1)\n",
        "  else:\n",
        "    if is_converted:\n",
        "      startingpage.update({page:(prev_val[0]+1, prev_val[1]+1)})\n",
        "    else:\n",
        "      startingpage.update({page:(prev_val[0], prev_val[1]+1)})"
      ],
      "execution_count": 17,
      "outputs": []
    },
    {
      "cell_type": "code",
      "metadata": {
        "id": "RuWsJFLKxLrL"
      },
      "source": [
        "#Creating the emissions matrix where the first row is if the user is not converted\n",
        "total_cpages = sum(c_pages.values())\n",
        "total_ncpages = sum(nc_pages.values())\n",
        "emission_matrix = [[0.0]*199]*2\n",
        "for i in [0,1]:\n",
        "  for j in np.arange(199):\n",
        "    if i:\n",
        "      val = c_pages.get(j)\n",
        "      if val == None:\n",
        "        val = 0\n",
        "      probability = val / total_cpages\n",
        "      emission_matrix[i][j] = probability\n",
        "    else:\n",
        "      val = nc_pages.get(j)\n",
        "      if val == None:\n",
        "        val = 0\n",
        "      probability = val / total_ncpages\n",
        "      emission_matrix[i][j] = probability"
      ],
      "execution_count": 18,
      "outputs": []
    },
    {
      "cell_type": "code",
      "metadata": {
        "id": "JQChu4Fa0iKe"
      },
      "source": [
        "#Creating the Starting Probability Matrix\n",
        "starting_matrix = [0.0]*199\n",
        "for i in np.arange(199):\n",
        "    val = startingpage.get(i)\n",
        "    if val:\n",
        "      probability = val[0] / val[1]\n",
        "      starting_matrix[i] = probability"
      ],
      "execution_count": 19,
      "outputs": []
    },
    {
      "cell_type": "markdown",
      "metadata": {
        "id": "81cF9SM7NEkT"
      },
      "source": [
        "Attempting to fit MultinomialHMM"
      ]
    },
    {
      "cell_type": "code",
      "metadata": {
        "id": "PNCV-WS762nB"
      },
      "source": [
        "from hmmlearn.hmm import MultinomialHMM"
      ],
      "execution_count": 20,
      "outputs": []
    },
    {
      "cell_type": "markdown",
      "metadata": {
        "id": "U5txE4_WL_vu"
      },
      "source": [
        "Reference: https://hmmlearn.readthedocs.io/en/latest/tutorial.html#training-hmm-parameters-and-inferring-the-hidden-states"
      ]
    },
    {
      "cell_type": "code",
      "metadata": {
        "id": "XyD7GWRH7tEx"
      },
      "source": [
        "list_of_sequences = []\n",
        "for i in pageseq['Page Sequence']:\n",
        "  s = []\n",
        "  for j in i:\n",
        "    s.append([j])\n",
        "  list_of_sequences.append(s)\n",
        "seqs_list = np.concatenate(list_of_sequences)\n",
        "seqs_len = [len(i) for i in list_of_sequences]"
      ],
      "execution_count": 21,
      "outputs": []
    },
    {
      "cell_type": "code",
      "metadata": {
        "id": "KFBT4gbGpU2H",
        "outputId": "7c3a977c-0b4c-40ea-8786-831bc6c235c9",
        "colab": {
          "base_uri": "https://localhost:8080/"
        }
      },
      "source": [
        "hmm_table = pageseq[['User ID', 'Converted Session']]\n",
        "hmm_table['Page List'] = list_of_sequences"
      ],
      "execution_count": 22,
      "outputs": [
        {
          "output_type": "stream",
          "text": [
            "/usr/local/lib/python3.6/dist-packages/ipykernel_launcher.py:2: SettingWithCopyWarning: \n",
            "A value is trying to be set on a copy of a slice from a DataFrame.\n",
            "Try using .loc[row_indexer,col_indexer] = value instead\n",
            "\n",
            "See the caveats in the documentation: https://pandas.pydata.org/pandas-docs/stable/user_guide/indexing.html#returning-a-view-versus-a-copy\n",
            "  \n"
          ],
          "name": "stderr"
        }
      ]
    },
    {
      "cell_type": "code",
      "metadata": {
        "id": "qH1-34Ncpx6P",
        "outputId": "6afccfe6-b2ae-400a-fe57-4b3aa84f730e",
        "colab": {
          "base_uri": "https://localhost:8080/",
          "height": 450
        }
      },
      "source": [
        "hmm_table"
      ],
      "execution_count": 23,
      "outputs": [
        {
          "output_type": "execute_result",
          "data": {
            "text/html": [
              "<div>\n",
              "<style scoped>\n",
              "    .dataframe tbody tr th:only-of-type {\n",
              "        vertical-align: middle;\n",
              "    }\n",
              "\n",
              "    .dataframe tbody tr th {\n",
              "        vertical-align: top;\n",
              "    }\n",
              "\n",
              "    .dataframe thead th {\n",
              "        text-align: right;\n",
              "    }\n",
              "</style>\n",
              "<table border=\"1\" class=\"dataframe\">\n",
              "  <thead>\n",
              "    <tr style=\"text-align: right;\">\n",
              "      <th></th>\n",
              "      <th>User ID</th>\n",
              "      <th>Converted Session</th>\n",
              "      <th>Page List</th>\n",
              "    </tr>\n",
              "    <tr>\n",
              "      <th>Session ID</th>\n",
              "      <th></th>\n",
              "      <th></th>\n",
              "      <th></th>\n",
              "    </tr>\n",
              "  </thead>\n",
              "  <tbody>\n",
              "    <tr>\n",
              "      <th>1569880989</th>\n",
              "      <td>4591098790048594944</td>\n",
              "      <td>1</td>\n",
              "      <td>[[126], [74], [84], [74], [84], [24]]</td>\n",
              "    </tr>\n",
              "    <tr>\n",
              "      <th>1569881650</th>\n",
              "      <td>8163510663962056704</td>\n",
              "      <td>1</td>\n",
              "      <td>[[125], [95], [84], [24]]</td>\n",
              "    </tr>\n",
              "    <tr>\n",
              "      <th>1569882913</th>\n",
              "      <td>5836022827757765632</td>\n",
              "      <td>1</td>\n",
              "      <td>[[125], [77], [5], [74], [5], [74], [85], [90]...</td>\n",
              "    </tr>\n",
              "    <tr>\n",
              "      <th>1569883055</th>\n",
              "      <td>3586855111765427200</td>\n",
              "      <td>1</td>\n",
              "      <td>[[130], [79], [84], [79], [85], [90], [93], [9...</td>\n",
              "    </tr>\n",
              "    <tr>\n",
              "      <th>1569883489</th>\n",
              "      <td>906571704020631040</td>\n",
              "      <td>1</td>\n",
              "      <td>[[125], [85], [90], [93], [99], [91], [92], [9...</td>\n",
              "    </tr>\n",
              "    <tr>\n",
              "      <th>...</th>\n",
              "      <td>...</td>\n",
              "      <td>...</td>\n",
              "      <td>...</td>\n",
              "    </tr>\n",
              "    <tr>\n",
              "      <th>1575659489</th>\n",
              "      <td>9051112861671794688</td>\n",
              "      <td>0</td>\n",
              "      <td>[[125], [77], [7], [81], [80], [89]]</td>\n",
              "    </tr>\n",
              "    <tr>\n",
              "      <th>1577225284</th>\n",
              "      <td>3788124383139236864</td>\n",
              "      <td>0</td>\n",
              "      <td>[[126], [81], [80]]</td>\n",
              "    </tr>\n",
              "    <tr>\n",
              "      <th>1571442544</th>\n",
              "      <td>7978353661760361472</td>\n",
              "      <td>1</td>\n",
              "      <td>[[125], [87], [86], [87]]</td>\n",
              "    </tr>\n",
              "    <tr>\n",
              "      <th>1571841895</th>\n",
              "      <td>1835028871891674880</td>\n",
              "      <td>0</td>\n",
              "      <td>[[127], [77], [82], [11], [6], [11], [78], [97]]</td>\n",
              "    </tr>\n",
              "    <tr>\n",
              "      <th>1577150327</th>\n",
              "      <td>5143383875824627712</td>\n",
              "      <td>1</td>\n",
              "      <td>[[125], [77], [81], [80], [81], [79], [84], [8...</td>\n",
              "    </tr>\n",
              "  </tbody>\n",
              "</table>\n",
              "<p>25362 rows × 3 columns</p>\n",
              "</div>"
            ],
            "text/plain": [
              "                        User ID  ...                                          Page List\n",
              "Session ID                       ...                                                   \n",
              "1569880989  4591098790048594944  ...              [[126], [74], [84], [74], [84], [24]]\n",
              "1569881650  8163510663962056704  ...                          [[125], [95], [84], [24]]\n",
              "1569882913  5836022827757765632  ...  [[125], [77], [5], [74], [5], [74], [85], [90]...\n",
              "1569883055  3586855111765427200  ...  [[130], [79], [84], [79], [85], [90], [93], [9...\n",
              "1569883489   906571704020631040  ...  [[125], [85], [90], [93], [99], [91], [92], [9...\n",
              "...                         ...  ...                                                ...\n",
              "1575659489  9051112861671794688  ...               [[125], [77], [7], [81], [80], [89]]\n",
              "1577225284  3788124383139236864  ...                                [[126], [81], [80]]\n",
              "1571442544  7978353661760361472  ...                          [[125], [87], [86], [87]]\n",
              "1571841895  1835028871891674880  ...   [[127], [77], [82], [11], [6], [11], [78], [97]]\n",
              "1577150327  5143383875824627712  ...  [[125], [77], [81], [80], [81], [79], [84], [8...\n",
              "\n",
              "[25362 rows x 3 columns]"
            ]
          },
          "metadata": {
            "tags": []
          },
          "execution_count": 23
        }
      ]
    },
    {
      "cell_type": "code",
      "metadata": {
        "id": "8PoVwusJFHsD"
      },
      "source": [
        "hmm = MultinomialHMM(n_components=2, init_params='se')"
      ],
      "execution_count": 24,
      "outputs": []
    },
    {
      "cell_type": "code",
      "metadata": {
        "id": "c4RZMHlM_-mZ"
      },
      "source": [
        "#Will not finish running\n",
        "hmm.startprob_ = np.array(starting_matrix)\n",
        "hmm.emissionprob_ = np.array(emission_matrix)"
      ],
      "execution_count": 25,
      "outputs": []
    },
    {
      "cell_type": "code",
      "metadata": {
        "id": "eY4KYEOZKoLL",
        "outputId": "1a641059-d22d-49f7-ab9e-cc2e2bad7e69",
        "colab": {
          "base_uri": "https://localhost:8080/"
        }
      },
      "source": [
        "#Fitting to a model where the emission and starting matrix can be altered\n",
        "hmm.fit(seqs_list, seqs_len)"
      ],
      "execution_count": 26,
      "outputs": [
        {
          "output_type": "stream",
          "text": [
            "Even though the 'startprob_' attribute is set, it will be overwritten during initialization because 'init_params' contains 's'\n"
          ],
          "name": "stderr"
        },
        {
          "output_type": "execute_result",
          "data": {
            "text/plain": [
              "MultinomialHMM(algorithm='viterbi', init_params='se', n_components=2, n_iter=10,\n",
              "               params='ste',\n",
              "               random_state=RandomState(MT19937) at 0x7F5C82AFC780,\n",
              "               startprob_prior=1.0, tol=0.01, transmat_prior=1.0,\n",
              "               verbose=False)"
            ]
          },
          "metadata": {
            "tags": []
          },
          "execution_count": 26
        }
      ]
    },
    {
      "cell_type": "code",
      "metadata": {
        "id": "h_wUMzRtKVGO"
      },
      "source": [
        "#Saving the model \n",
        "import pickle\n",
        "with open(\"./Datasets/Multinomial_2n_1000iter.pkl\", \"wb\") as file: pickle.dump(hmm, file)"
      ],
      "execution_count": 27,
      "outputs": []
    },
    {
      "cell_type": "code",
      "metadata": {
        "id": "Nnc9xrnQXWdK",
        "outputId": "077b6988-310b-49fe-f7f0-c3c69123610a",
        "colab": {
          "base_uri": "https://localhost:8080/"
        }
      },
      "source": [
        "hmm.monitor_.converged"
      ],
      "execution_count": 28,
      "outputs": [
        {
          "output_type": "execute_result",
          "data": {
            "text/plain": [
              "True"
            ]
          },
          "metadata": {
            "tags": []
          },
          "execution_count": 28
        }
      ]
    },
    {
      "cell_type": "code",
      "metadata": {
        "id": "80V0_xlHl5aX",
        "outputId": "61594c69-722c-40a8-b120-10b6e017d554",
        "colab": {
          "base_uri": "https://localhost:8080/"
        }
      },
      "source": [
        "hmm.get_stationary_distribution()"
      ],
      "execution_count": 29,
      "outputs": [
        {
          "output_type": "execute_result",
          "data": {
            "text/plain": [
              "array([0.09125523, 0.90874477])"
            ]
          },
          "metadata": {
            "tags": []
          },
          "execution_count": 29
        }
      ]
    },
    {
      "cell_type": "code",
      "metadata": {
        "id": "-dtk1tL7HXu3"
      },
      "source": [
        "#Getting the most likely path of a converted user\n",
        "converted_sequences = []\n",
        "for i in pageseq[pageseq['Converted Session']==1]['Page Sequence']:\n",
        "  s = []\n",
        "  for j in i:\n",
        "    s.append([j])\n",
        "  converted_sequences.append(s)\n",
        "\n",
        "best_score = -1000000\n",
        "best_sequence = []\n",
        "for i,seq in enumerate(converted_sequences):\n",
        "  score = hmm.score(seq)\n",
        "  if score > best_score:\n",
        "    best_score = score\n",
        "    best_sequence = converted_sequences[i]"
      ],
      "execution_count": 30,
      "outputs": []
    },
    {
      "cell_type": "code",
      "metadata": {
        "id": "e_ei27h0ZPma",
        "outputId": "02fda323-413b-449b-a12a-8cd410a11786",
        "colab": {
          "base_uri": "https://localhost:8080/"
        }
      },
      "source": [
        "best_sequence"
      ],
      "execution_count": 31,
      "outputs": [
        {
          "output_type": "execute_result",
          "data": {
            "text/plain": [
              "[[125], [24]]"
            ]
          },
          "metadata": {
            "tags": []
          },
          "execution_count": 31
        }
      ]
    },
    {
      "cell_type": "code",
      "metadata": {
        "id": "0VZDbcHDamuK",
        "outputId": "c471a355-4a0c-4d8f-eb94-1cf0f96fab57",
        "colab": {
          "base_uri": "https://localhost:8080/"
        }
      },
      "source": [
        "best_score"
      ],
      "execution_count": 32,
      "outputs": [
        {
          "output_type": "execute_result",
          "data": {
            "text/plain": [
              "-5.583614527843257"
            ]
          },
          "metadata": {
            "tags": []
          },
          "execution_count": 32
        }
      ]
    },
    {
      "cell_type": "code",
      "metadata": {
        "id": "cYQQ-y9eaoVz",
        "outputId": "0b76f256-3a2c-46ad-ca22-9cc13dce332d",
        "colab": {
          "base_uri": "https://localhost:8080/"
        }
      },
      "source": [
        "hmm.decode(best_sequence)"
      ],
      "execution_count": 33,
      "outputs": [
        {
          "output_type": "execute_result",
          "data": {
            "text/plain": [
              "(-5.6148537057782555, array([0, 1]))"
            ]
          },
          "metadata": {
            "tags": []
          },
          "execution_count": 33
        }
      ]
    },
    {
      "cell_type": "code",
      "metadata": {
        "id": "AjI2Lck-cBQs"
      },
      "source": [
        "#Getting the most likely path of a nonconverted user\n",
        "nonconverted_sequences = []\n",
        "for i in pageseq[pageseq['Converted Session']==0]['Page Sequence']:\n",
        "  s = []\n",
        "  for j in i:\n",
        "    s.append([j])\n",
        "  nonconverted_sequences.append(s)\n",
        "\n",
        "best_nscore = -1000000\n",
        "best_nsequence = []\n",
        "for i,seq in enumerate(nonconverted_sequences):\n",
        "  score = hmm.score(seq)\n",
        "  if score > best_nscore:\n",
        "    best_nscore = score\n",
        "    best_nsequence = nonconverted_sequences[i]"
      ],
      "execution_count": 34,
      "outputs": []
    },
    {
      "cell_type": "code",
      "metadata": {
        "id": "DwUkVtNpe8Va",
        "outputId": "297e1e4a-78fb-40ce-d527-f9ccd09d8d38",
        "colab": {
          "base_uri": "https://localhost:8080/"
        }
      },
      "source": [
        "best_nscore"
      ],
      "execution_count": 35,
      "outputs": [
        {
          "output_type": "execute_result",
          "data": {
            "text/plain": [
              "-5.009889393808022"
            ]
          },
          "metadata": {
            "tags": []
          },
          "execution_count": 35
        }
      ]
    },
    {
      "cell_type": "code",
      "metadata": {
        "id": "iKN75nF4e6sF",
        "outputId": "a704f619-1366-4fdf-de35-83d4f288233c",
        "colab": {
          "base_uri": "https://localhost:8080/"
        }
      },
      "source": [
        "best_nsequence"
      ],
      "execution_count": 36,
      "outputs": [
        {
          "output_type": "execute_result",
          "data": {
            "text/plain": [
              "[[125], [77]]"
            ]
          },
          "metadata": {
            "tags": []
          },
          "execution_count": 36
        }
      ]
    },
    {
      "cell_type": "code",
      "metadata": {
        "id": "FlilV7Cqia4e",
        "outputId": "41d6cc8d-737d-440c-a61b-4794cb3ebac0",
        "colab": {
          "base_uri": "https://localhost:8080/"
        }
      },
      "source": [
        "hmm.decode(best_nsequence)"
      ],
      "execution_count": 37,
      "outputs": [
        {
          "output_type": "execute_result",
          "data": {
            "text/plain": [
              "(-5.338700816792741, array([0, 0]))"
            ]
          },
          "metadata": {
            "tags": []
          },
          "execution_count": 37
        }
      ]
    },
    {
      "cell_type": "code",
      "metadata": {
        "id": "YA0OGlcomgTE",
        "outputId": "1bcebfb4-6f16-46d6-926d-0f6877f39654",
        "colab": {
          "base_uri": "https://localhost:8080/"
        }
      },
      "source": [
        "list_scores = [hmm.score(i) for i in hmm_table['Page List']]\n",
        "hmm_table['Score'] = list_scores"
      ],
      "execution_count": 38,
      "outputs": [
        {
          "output_type": "stream",
          "text": [
            "/usr/local/lib/python3.6/dist-packages/ipykernel_launcher.py:2: SettingWithCopyWarning: \n",
            "A value is trying to be set on a copy of a slice from a DataFrame.\n",
            "Try using .loc[row_indexer,col_indexer] = value instead\n",
            "\n",
            "See the caveats in the documentation: https://pandas.pydata.org/pandas-docs/stable/user_guide/indexing.html#returning-a-view-versus-a-copy\n",
            "  \n"
          ],
          "name": "stderr"
        }
      ]
    },
    {
      "cell_type": "code",
      "metadata": {
        "id": "b-5i-l6rrrbt"
      },
      "source": [
        "hmm_table = hmm_table.sort_values('Score', ascending=False).drop_duplicates(['Score'])"
      ],
      "execution_count": 39,
      "outputs": []
    },
    {
      "cell_type": "code",
      "metadata": {
        "id": "X5iO59nFrukA",
        "outputId": "6003fb4d-1739-488c-d55c-cd38adde1eee",
        "colab": {
          "base_uri": "https://localhost:8080/",
          "height": 700
        }
      },
      "source": [
        "hmm_table[hmm_table['Converted Session']==1][:20]"
      ],
      "execution_count": 40,
      "outputs": [
        {
          "output_type": "execute_result",
          "data": {
            "text/html": [
              "<div>\n",
              "<style scoped>\n",
              "    .dataframe tbody tr th:only-of-type {\n",
              "        vertical-align: middle;\n",
              "    }\n",
              "\n",
              "    .dataframe tbody tr th {\n",
              "        vertical-align: top;\n",
              "    }\n",
              "\n",
              "    .dataframe thead th {\n",
              "        text-align: right;\n",
              "    }\n",
              "</style>\n",
              "<table border=\"1\" class=\"dataframe\">\n",
              "  <thead>\n",
              "    <tr style=\"text-align: right;\">\n",
              "      <th></th>\n",
              "      <th>User ID</th>\n",
              "      <th>Converted Session</th>\n",
              "      <th>Page List</th>\n",
              "      <th>Score</th>\n",
              "    </tr>\n",
              "    <tr>\n",
              "      <th>Session ID</th>\n",
              "      <th></th>\n",
              "      <th></th>\n",
              "      <th></th>\n",
              "      <th></th>\n",
              "    </tr>\n",
              "  </thead>\n",
              "  <tbody>\n",
              "    <tr>\n",
              "      <th>1571795906</th>\n",
              "      <td>8057262334226176000</td>\n",
              "      <td>1</td>\n",
              "      <td>[[125], [24]]</td>\n",
              "      <td>-5.583615</td>\n",
              "    </tr>\n",
              "    <tr>\n",
              "      <th>1572634913</th>\n",
              "      <td>5569061000809496576</td>\n",
              "      <td>1</td>\n",
              "      <td>[[127], [86]]</td>\n",
              "      <td>-5.595411</td>\n",
              "    </tr>\n",
              "    <tr>\n",
              "      <th>1572052111</th>\n",
              "      <td>2366803702114326528</td>\n",
              "      <td>1</td>\n",
              "      <td>[[126], [24]]</td>\n",
              "      <td>-5.656997</td>\n",
              "    </tr>\n",
              "    <tr>\n",
              "      <th>1573908375</th>\n",
              "      <td>6536067338407500800</td>\n",
              "      <td>1</td>\n",
              "      <td>[[127], [24]]</td>\n",
              "      <td>-5.699612</td>\n",
              "    </tr>\n",
              "    <tr>\n",
              "      <th>1572982438</th>\n",
              "      <td>5182842934369292288</td>\n",
              "      <td>1</td>\n",
              "      <td>[[126], [39]]</td>\n",
              "      <td>-6.294244</td>\n",
              "    </tr>\n",
              "    <tr>\n",
              "      <th>1569925559</th>\n",
              "      <td>497671481498709376</td>\n",
              "      <td>1</td>\n",
              "      <td>[[130], [24]]</td>\n",
              "      <td>-6.368394</td>\n",
              "    </tr>\n",
              "    <tr>\n",
              "      <th>1576684527</th>\n",
              "      <td>7581896023924689920</td>\n",
              "      <td>1</td>\n",
              "      <td>[[125], [34]]</td>\n",
              "      <td>-7.404224</td>\n",
              "    </tr>\n",
              "    <tr>\n",
              "      <th>1577463085</th>\n",
              "      <td>6669101218805455872</td>\n",
              "      <td>1</td>\n",
              "      <td>[[126], [34]]</td>\n",
              "      <td>-7.477607</td>\n",
              "    </tr>\n",
              "    <tr>\n",
              "      <th>1575834213</th>\n",
              "      <td>1365451679288016384</td>\n",
              "      <td>1</td>\n",
              "      <td>[[127], [34]]</td>\n",
              "      <td>-7.520221</td>\n",
              "    </tr>\n",
              "    <tr>\n",
              "      <th>1577410875</th>\n",
              "      <td>256452520296306528</td>\n",
              "      <td>1</td>\n",
              "      <td>[[129], [24]]</td>\n",
              "      <td>-7.982690</td>\n",
              "    </tr>\n",
              "    <tr>\n",
              "      <th>1573593020</th>\n",
              "      <td>164404013859196640</td>\n",
              "      <td>1</td>\n",
              "      <td>[[125], [84], [24]]</td>\n",
              "      <td>-8.190158</td>\n",
              "    </tr>\n",
              "    <tr>\n",
              "      <th>1573495439</th>\n",
              "      <td>3288713531645778944</td>\n",
              "      <td>1</td>\n",
              "      <td>[[126], [84], [24]]</td>\n",
              "      <td>-8.263541</td>\n",
              "    </tr>\n",
              "    <tr>\n",
              "      <th>1577247724</th>\n",
              "      <td>8614024614160300032</td>\n",
              "      <td>1</td>\n",
              "      <td>[[127], [84], [24]]</td>\n",
              "      <td>-8.306156</td>\n",
              "    </tr>\n",
              "    <tr>\n",
              "      <th>1576370156</th>\n",
              "      <td>7478640603490370560</td>\n",
              "      <td>1</td>\n",
              "      <td>[[125], [86], [87]]</td>\n",
              "      <td>-8.367514</td>\n",
              "    </tr>\n",
              "    <tr>\n",
              "      <th>1574442618</th>\n",
              "      <td>5426649982741394432</td>\n",
              "      <td>1</td>\n",
              "      <td>[[125], [87], [86]]</td>\n",
              "      <td>-8.373234</td>\n",
              "    </tr>\n",
              "    <tr>\n",
              "      <th>1576533891</th>\n",
              "      <td>7173740368327756800</td>\n",
              "      <td>1</td>\n",
              "      <td>[[126], [86], [87]]</td>\n",
              "      <td>-8.440896</td>\n",
              "    </tr>\n",
              "    <tr>\n",
              "      <th>1570595409</th>\n",
              "      <td>1961962017528829696</td>\n",
              "      <td>1</td>\n",
              "      <td>[[126], [87], [86]]</td>\n",
              "      <td>-8.446617</td>\n",
              "    </tr>\n",
              "    <tr>\n",
              "      <th>1576968618</th>\n",
              "      <td>4997946593735762944</td>\n",
              "      <td>1</td>\n",
              "      <td>[[127], [86], [87]]</td>\n",
              "      <td>-8.483511</td>\n",
              "    </tr>\n",
              "    <tr>\n",
              "      <th>1571716382</th>\n",
              "      <td>710743284341701888</td>\n",
              "      <td>1</td>\n",
              "      <td>[[127], [87], [86]]</td>\n",
              "      <td>-8.489232</td>\n",
              "    </tr>\n",
              "    <tr>\n",
              "      <th>1574993236</th>\n",
              "      <td>8882847570706053120</td>\n",
              "      <td>1</td>\n",
              "      <td>[[125], [24], [97]]</td>\n",
              "      <td>-8.764902</td>\n",
              "    </tr>\n",
              "  </tbody>\n",
              "</table>\n",
              "</div>"
            ],
            "text/plain": [
              "                        User ID  ...     Score\n",
              "Session ID                       ...          \n",
              "1571795906  8057262334226176000  ... -5.583615\n",
              "1572634913  5569061000809496576  ... -5.595411\n",
              "1572052111  2366803702114326528  ... -5.656997\n",
              "1573908375  6536067338407500800  ... -5.699612\n",
              "1572982438  5182842934369292288  ... -6.294244\n",
              "1569925559   497671481498709376  ... -6.368394\n",
              "1576684527  7581896023924689920  ... -7.404224\n",
              "1577463085  6669101218805455872  ... -7.477607\n",
              "1575834213  1365451679288016384  ... -7.520221\n",
              "1577410875   256452520296306528  ... -7.982690\n",
              "1573593020   164404013859196640  ... -8.190158\n",
              "1573495439  3288713531645778944  ... -8.263541\n",
              "1577247724  8614024614160300032  ... -8.306156\n",
              "1576370156  7478640603490370560  ... -8.367514\n",
              "1574442618  5426649982741394432  ... -8.373234\n",
              "1576533891  7173740368327756800  ... -8.440896\n",
              "1570595409  1961962017528829696  ... -8.446617\n",
              "1576968618  4997946593735762944  ... -8.483511\n",
              "1571716382   710743284341701888  ... -8.489232\n",
              "1574993236  8882847570706053120  ... -8.764902\n",
              "\n",
              "[20 rows x 4 columns]"
            ]
          },
          "metadata": {
            "tags": []
          },
          "execution_count": 40
        }
      ]
    },
    {
      "cell_type": "code",
      "metadata": {
        "id": "d_HrXp_StIck"
      },
      "source": [
        "best_sc = -10000\n",
        "best_seq = []\n",
        "for i in np.arange(100000):\n",
        "  sequence1 = hmm.sample(5)[0]\n",
        "  score1 = hmm.score(sequence1)\n",
        "  if score1 > best_sc:\n",
        "    best_seq = sequence1\n",
        "    best_sc = score1"
      ],
      "execution_count": 41,
      "outputs": []
    },
    {
      "cell_type": "code",
      "metadata": {
        "id": "ewmrlPF4zPc5",
        "outputId": "d84bdf2f-9866-4ac5-d77f-b7a10445bee4",
        "colab": {
          "base_uri": "https://localhost:8080/"
        }
      },
      "source": [
        "best_seq"
      ],
      "execution_count": 42,
      "outputs": [
        {
          "output_type": "execute_result",
          "data": {
            "text/plain": [
              "array([[125],\n",
              "       [ 90],\n",
              "       [ 90],\n",
              "       [ 90],\n",
              "       [ 90]])"
            ]
          },
          "metadata": {
            "tags": []
          },
          "execution_count": 42
        }
      ]
    },
    {
      "cell_type": "code",
      "metadata": {
        "id": "f6pQQEPuqM6n",
        "outputId": "0ba51456-8e55-4421-f8ee-8e36f5a821cb",
        "colab": {
          "base_uri": "https://localhost:8080/"
        }
      },
      "source": [
        "hmm.decode(best_seq)"
      ],
      "execution_count": 43,
      "outputs": [
        {
          "output_type": "execute_result",
          "data": {
            "text/plain": [
              "(-13.10102456431626, array([0, 1, 1, 1, 1]))"
            ]
          },
          "metadata": {
            "tags": []
          },
          "execution_count": 43
        }
      ]
    },
    {
      "cell_type": "code",
      "metadata": {
        "id": "lpYIbWd2qZA9"
      },
      "source": [
        ""
      ],
      "execution_count": null,
      "outputs": []
    }
  ]
}